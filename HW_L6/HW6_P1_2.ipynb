{
 "cells": [
  {
   "cell_type": "markdown",
   "id": "088610bb-dd9c-404a-8f48-211e0700ea0d",
   "metadata": {},
   "source": [
    "# HW 6\n",
    "ENGN2912V\n",
    "\n",
    "Seokkee Min"
   ]
  },
  {
   "cell_type": "markdown",
   "id": "37be19cd-68d1-4241-ab65-ef6ded995f0c",
   "metadata": {},
   "source": [
    "## P1 - CNN"
   ]
  },
  {
   "cell_type": "code",
   "execution_count": 1,
   "id": "2e462b95-5d35-4427-9f4e-5b368e5f48e6",
   "metadata": {
    "tags": []
   },
   "outputs": [],
   "source": [
    "import jax\n",
    "from jax.example_libraries import stax, optimizers\n",
    "from jax import numpy as jnp\n",
    "from jax import jit, grad, vmap, random, value_and_grad\n",
    "import numpy as np\n",
    "import csv\n",
    "import matplotlib.pyplot as plt"
   ]
  },
  {
   "cell_type": "code",
   "execution_count": 2,
   "id": "749cf4e1-6689-4311-b739-d14156b39e79",
   "metadata": {
    "tags": []
   },
   "outputs": [],
   "source": [
    "train_path = \"/gpfs/home/smin24/ENGN2912V/HW_L6/mnist_train.csv\"\n",
    "test_path = \"/gpfs/home/smin24/ENGN2912V/HW_L6/mnist_test.csv\"\n",
    "x_train = np.loadtxt(train_path, delimiter = ',', skiprows=1, usecols=range(1,785))\n",
    "x_test = np.loadtxt(test_path, delimiter = ',', skiprows=1, usecols=range(1,785))"
   ]
  },
  {
   "cell_type": "code",
   "execution_count": 3,
   "id": "bc1db4c9-7078-4130-a8a3-ac3502d28993",
   "metadata": {
    "tags": []
   },
   "outputs": [],
   "source": [
    "y_train = np.loadtxt(train_path, delimiter = ',', skiprows=1, usecols=0)\n",
    "y_test = np.loadtxt(test_path, delimiter = ',', skiprows=1, usecols=0)"
   ]
  },
  {
   "cell_type": "code",
   "execution_count": 4,
   "id": "8dc10a2f-1237-4b49-b716-3f297950313c",
   "metadata": {
    "tags": []
   },
   "outputs": [
    {
     "data": {
      "text/plain": [
       "((60000, 784), (10000, 784))"
      ]
     },
     "execution_count": 4,
     "metadata": {},
     "output_type": "execute_result"
    }
   ],
   "source": [
    "np.shape(x_train), np.shape(x_test)"
   ]
  },
  {
   "cell_type": "code",
   "execution_count": 5,
   "id": "30b17740-82e7-4fcd-85fe-d7a546f16025",
   "metadata": {
    "tags": []
   },
   "outputs": [],
   "source": [
    "x_train = x_train.reshape(-1, 28, 28, 1)\n",
    "x_test = x_test.reshape(-1, 28, 28, 1)\n",
    "x_test /= 255.0\n",
    "x_train /= 255.0\n",
    "\n",
    "classes = jnp.unique(y_train)"
   ]
  },
  {
   "cell_type": "code",
   "execution_count": 6,
   "id": "2c97319f-ba3b-4f4b-b24f-fbc7c2aae036",
   "metadata": {
    "tags": []
   },
   "outputs": [],
   "source": [
    "conv_init, conv_apply = stax.serial(\n",
    "    stax.Conv(32,(3,3), padding = \"SAME\"),\n",
    "    stax.Relu,\n",
    "    stax.Conv(16, (3,3), padding = \"SAME\"),\n",
    "    stax.Relu,\n",
    "    \n",
    "    stax.Flatten,\n",
    "    stax.Dense(len(classes)),\n",
    "    stax.Softmax\n",
    ")"
   ]
  },
  {
   "cell_type": "code",
   "execution_count": 2,
   "id": "75136e56-5567-429a-aa4f-f54f6618cea6",
   "metadata": {
    "tags": []
   },
   "outputs": [
    {
     "name": "stderr",
     "output_type": "stream",
     "text": [
      "2023-04-26 22:04:06.992168: W external/xla/xla/service/platform_util.cc:198] unable to create StreamExecutor for CUDA:0: failed initializing StreamExecutor for CUDA device ordinal 0: INTERNAL: failed call to cuDevicePrimaryCtxRetain: CUDA_ERROR_OUT_OF_MEMORY: out of memory; total memory reported: 12653035520\n",
      "No GPU/TPU found, falling back to CPU. (Set TF_CPP_MIN_LOG_LEVEL=0 and rerun for more info.)\n"
     ]
    }
   ],
   "source": [
    "rng = jax.random.PRNGKey(1234)"
   ]
  },
  {
   "cell_type": "code",
   "execution_count": 7,
   "id": "c0beb698-cd52-4de0-a6c3-7c509953bb1b",
   "metadata": {
    "tags": []
   },
   "outputs": [
    {
     "name": "stdout",
     "output_type": "stream",
     "text": [
      "Weights : (3, 3, 1, 32), Biases : (1, 1, 1, 32)\n",
      "Weights : (3, 3, 32, 16), Biases : (1, 1, 1, 16)\n",
      "Weights : (12544, 10), Biases : (10,)\n"
     ]
    }
   ],
   "source": [
    "weights = conv_init(rng, (18,28,28,1))\n",
    "weights = weights[1]\n",
    "\n",
    "for w in weights:\n",
    "    if w:\n",
    "        w, b = w\n",
    "        print(\"Weights : {}, Biases : {}\".format(w.shape, b.shape))"
   ]
  },
  {
   "cell_type": "code",
   "execution_count": 8,
   "id": "1f7ede56-3b64-42ec-a550-b64c67bdc05d",
   "metadata": {
    "tags": []
   },
   "outputs": [],
   "source": [
    "preds = conv_apply(weights, x_train[:5])"
   ]
  },
  {
   "cell_type": "code",
   "execution_count": 9,
   "id": "cc61beab-6fac-43c6-b901-97037a9b78c2",
   "metadata": {
    "tags": []
   },
   "outputs": [
    {
     "data": {
      "text/plain": [
       "Array([[0.09970718, 0.08787042, 0.08216777, 0.11233684, 0.10282524,\n",
       "        0.10359077, 0.10885791, 0.10094956, 0.10177766, 0.09991664],\n",
       "       [0.09815039, 0.08544517, 0.08750093, 0.10332955, 0.10838366,\n",
       "        0.09500911, 0.11133257, 0.09582874, 0.10590765, 0.10911224],\n",
       "       [0.10432425, 0.10296273, 0.08341178, 0.11053631, 0.10947052,\n",
       "        0.0924192 , 0.10321891, 0.09241705, 0.10337016, 0.09786902],\n",
       "       [0.0978803 , 0.10050037, 0.08396979, 0.10295038, 0.10739256,\n",
       "        0.09288935, 0.11269365, 0.09960553, 0.10745761, 0.09466055],\n",
       "       [0.083104  , 0.11387152, 0.09326962, 0.09825166, 0.09160949,\n",
       "        0.08975831, 0.10821015, 0.10538024, 0.11558762, 0.10095735]],      dtype=float32)"
      ]
     },
     "execution_count": 9,
     "metadata": {},
     "output_type": "execute_result"
    }
   ],
   "source": [
    "preds"
   ]
  },
  {
   "cell_type": "code",
   "execution_count": 10,
   "id": "3a5df3a1-fef2-41dd-ba62-4f864ef72240",
   "metadata": {
    "tags": []
   },
   "outputs": [],
   "source": [
    "def CrossEntropyLoss(weights, input_data, actual):\n",
    "    preds = conv_apply(weights, input_data)\n",
    "    one_hot_actual = jax.nn.one_hot(actual, num_classes = len(classes))\n",
    "    log_preds = jnp.log(preds)\n",
    "    return - jnp.sum(one_hot_actual * log_preds)"
   ]
  },
  {
   "cell_type": "code",
   "execution_count": 11,
   "id": "87f79722-118c-4d4b-95ad-2666f234e2b2",
   "metadata": {
    "tags": []
   },
   "outputs": [],
   "source": [
    "def TrainModelInBatches(X, Y, epochs, opt_state, batch_size=32):\n",
    "    for i in range(1, epochs+1):\n",
    "        batches = jnp.arange((X.shape[0]//batch_size)+1) ### Batch Indices\n",
    "\n",
    "        losses = [] ## Record loss of each batch\n",
    "        for batch in batches:\n",
    "            if batch != batches[-1]:\n",
    "                start, end = int(batch*batch_size), int(batch*batch_size+batch_size)\n",
    "            else:\n",
    "                start, end = int(batch*batch_size), None\n",
    "\n",
    "            X_batch, Y_batch = X[start:end], Y[start:end] ## Single batch of data\n",
    "\n",
    "            loss, gradients = value_and_grad(CrossEntropyLoss)(opt_get_weights(opt_state), X_batch,Y_batch)\n",
    "\n",
    "            ## Update Weights\n",
    "            opt_state = opt_update(i, gradients, opt_state)\n",
    "\n",
    "            losses.append(loss) ## Record Loss\n",
    "\n",
    "        print(\"CrossEntropyLoss : {:.3f}\".format(jnp.array(losses).mean()))\n",
    "\n",
    "    return opt_state"
   ]
  },
  {
   "cell_type": "code",
   "execution_count": 12,
   "id": "11033e09-912d-429e-bdb4-fbb7a48108b3",
   "metadata": {
    "tags": []
   },
   "outputs": [
    {
     "name": "stdout",
     "output_type": "stream",
     "text": [
      "CrossEntropyLoss : 161.442\n",
      "CrossEntropyLoss : 89.797\n",
      "CrossEntropyLoss : 80.723\n",
      "CrossEntropyLoss : 73.774\n",
      "CrossEntropyLoss : 66.493\n",
      "CrossEntropyLoss : 57.924\n",
      "CrossEntropyLoss : 48.553\n",
      "CrossEntropyLoss : 40.021\n",
      "CrossEntropyLoss : 33.481\n",
      "CrossEntropyLoss : 28.833\n",
      "CrossEntropyLoss : 25.516\n",
      "CrossEntropyLoss : 23.055\n",
      "CrossEntropyLoss : 21.159\n",
      "CrossEntropyLoss : 19.653\n",
      "CrossEntropyLoss : 18.422\n",
      "CrossEntropyLoss : 17.392\n",
      "CrossEntropyLoss : 16.514\n",
      "CrossEntropyLoss : 15.750\n",
      "CrossEntropyLoss : 15.075\n",
      "CrossEntropyLoss : 14.471\n",
      "CrossEntropyLoss : 13.924\n",
      "CrossEntropyLoss : 13.425\n",
      "CrossEntropyLoss : 12.966\n",
      "CrossEntropyLoss : 12.539\n",
      "CrossEntropyLoss : 12.143\n"
     ]
    }
   ],
   "source": [
    "seed = jax.random.PRNGKey(1234)\n",
    "lr = jnp.array(1e-4)\n",
    "epochs = 25\n",
    "batch = 256\n",
    "\n",
    "weights = conv_init(rng, (batch, 28, 28, 1))\n",
    "weights = weights[1]\n",
    "\n",
    "opt_init, opt_update, opt_get_weights = optimizers.sgd(lr)\n",
    "opt_state = opt_init(weights)\n",
    "\n",
    "final_opt_state = TrainModelInBatches(x_train, y_train, epochs, opt_state, batch_size=batch)"
   ]
  },
  {
   "cell_type": "code",
   "execution_count": 13,
   "id": "d4065fdd-d47e-426a-8de1-88f707a2e9ae",
   "metadata": {},
   "outputs": [],
   "source": [
    "def MakePredictions(weights, input_data, batch_size=32):\n",
    "    batches = jnp.arange((input_data.shape[0]//batch_size)+1) ### Batch Indices\n",
    "\n",
    "    preds = []\n",
    "    for batch in batches:\n",
    "        if batch != batches[-1]:\n",
    "            start, end = int(batch*batch_size), int(batch*batch_size+batch_size)\n",
    "        else:\n",
    "            start, end = int(batch*batch_size), None\n",
    "\n",
    "        X_batch = input_data[start:end]\n",
    "\n",
    "        if X_batch.shape[0] != 0:\n",
    "            preds.append(conv_apply(weights, X_batch))\n",
    "\n",
    "    return preds"
   ]
  },
  {
   "cell_type": "code",
   "execution_count": 15,
   "id": "7f9c45e9-dd1a-4bb1-a4a7-2eee21a01ebb",
   "metadata": {
    "tags": []
   },
   "outputs": [
    {
     "data": {
      "text/plain": [
       "(Array([7, 2, 1, 0, 4], dtype=int32), Array([5, 0, 4, 1, 9], dtype=int32))"
      ]
     },
     "execution_count": 15,
     "metadata": {},
     "output_type": "execute_result"
    }
   ],
   "source": [
    "test_preds = MakePredictions(opt_get_weights(final_opt_state), x_test, batch_size=batch)\n",
    "\n",
    "test_preds = jnp.concatenate(test_preds).squeeze() ## Combine predictions of all batches\n",
    "\n",
    "test_preds = jnp.argmax(test_preds, axis=1)\n",
    "\n",
    "train_preds = MakePredictions(opt_get_weights(final_opt_state), x_train, batch_size=batch)\n",
    "\n",
    "train_preds = jnp.concatenate(train_preds).squeeze() ## Combine predictions of all batches\n",
    "\n",
    "train_preds = jnp.argmax(train_preds, axis=1)\n",
    "\n",
    "test_preds[:5], train_preds[:5]"
   ]
  },
  {
   "cell_type": "code",
   "execution_count": 20,
   "id": "df666a1f-5d79-472b-bc0a-a7dfe2c62260",
   "metadata": {
    "tags": []
   },
   "outputs": [
    {
     "name": "stdout",
     "output_type": "stream",
     "text": [
      "Train Accuracy : 0.988\n",
      "Test  Accuracy : 0.981\n"
     ]
    }
   ],
   "source": [
    "from sklearn.metrics import accuracy_score\n",
    "\n",
    "print(\"Train Accuracy : {:.3f}\".format(accuracy_score(y_train, train_preds)))\n",
    "print(\"Test  Accuracy : {:.3f}\".format(accuracy_score(y_test, test_preds)))"
   ]
  },
  {
   "cell_type": "code",
   "execution_count": 22,
   "id": "829d25b1-8d11-4ff4-9204-1f255b54b3ed",
   "metadata": {
    "tags": []
   },
   "outputs": [
    {
     "name": "stdout",
     "output_type": "stream",
     "text": [
      "Test Classification Report \n",
      "              precision    recall  f1-score   support\n",
      "\n",
      "         0.0       0.98      0.99      0.98       980\n",
      "         1.0       0.99      0.99      0.99      1135\n",
      "         2.0       0.97      0.98      0.98      1032\n",
      "         3.0       0.97      0.99      0.98      1010\n",
      "         4.0       0.98      0.99      0.99       982\n",
      "         5.0       0.97      0.99      0.98       892\n",
      "         6.0       0.99      0.97      0.98       958\n",
      "         7.0       0.98      0.97      0.98      1028\n",
      "         8.0       0.98      0.97      0.98       974\n",
      "         9.0       0.99      0.96      0.98      1009\n",
      "\n",
      "    accuracy                           0.98     10000\n",
      "   macro avg       0.98      0.98      0.98     10000\n",
      "weighted avg       0.98      0.98      0.98     10000\n",
      "\n"
     ]
    }
   ],
   "source": [
    "from sklearn.metrics import classification_report\n",
    "\n",
    "print(\"Test Classification Report \")\n",
    "print(classification_report(y_test, test_preds))"
   ]
  },
  {
   "cell_type": "markdown",
   "id": "0e6e278d-df31-4a23-a75f-cfb4ebbd7aa6",
   "metadata": {},
   "source": [
    "I built a CNN with two sets of Convolution and ReLU layers, and employed padding (=\"SAME\"). With this, I was able to achieve approx 98% training and testing accuracy (0.988 and 0.981, respectively) after 25 training epochs."
   ]
  },
  {
   "cell_type": "markdown",
   "id": "d9d86c4f-6e48-4c5f-8185-f2e70c05e160",
   "metadata": {},
   "source": [
    "## P2 - Runge Func"
   ]
  },
  {
   "cell_type": "code",
   "execution_count": 30,
   "id": "f19d2d2e-bea7-472e-b713-df7d7920bad4",
   "metadata": {
    "tags": []
   },
   "outputs": [],
   "source": [
    "def runge(x):\n",
    "    y = 1/(1+25*x**2)\n",
    "    return y\n",
    "\n",
    "def x_uni(n, lb, ub):\n",
    "    x = jnp.linspace(lb, ub, n, dtype=np.float32)\n",
    "    return x\n",
    "\n",
    "def get_random_layer_params(m, n, random_key, scale=0.01):\n",
    "    w_key, b_key = random.split(random_key)\n",
    "    weights = 1/(jnp.sqrt(m+n)) * random.normal(w_key, (n, m))\n",
    "    biases = jnp.zeros((n,)) \n",
    "    return weights, biases\n",
    "\n",
    "def get_init_network_params(sizes, ran_key):\n",
    "    keys = random.split(ran_key, len(sizes))\n",
    "    return [get_random_layer_params(m, n, k) \\\n",
    "            for m, n, k in zip(sizes[:-1], sizes[1:], keys)]\n",
    "\n",
    "def feedforward_prediction(params, x):     \n",
    "    for w, b in params[:-1]:\n",
    "        outputs = jnp.dot(w, x) + b  \n",
    "        x = jax.nn.relu(outputs)  \n",
    "    w_final, b_final = params[-1] \n",
    "    final_outputs = jnp.dot(w_final, x) + b_final \n",
    "    return final_outputs  \n",
    "\n",
    "batched_prediction = vmap(feedforward_prediction, in_axes=(None, 0))\n",
    "\n",
    "@jit\n",
    "def mse_loss(params, x, y):\n",
    "    preds = batched_prediction(params, x)\n",
    "    diff = preds - y\n",
    "    return jnp.sum(diff*diff)/preds.shape[0]\n",
    "\n",
    "@jit\n",
    "def update(params, x, y, learning_rate):\n",
    "    l, grads = value_and_grad(mse_loss)(params, x, y)\n",
    "    return [(w - learning_rate * dw, b - learning_rate * db) \n",
    "            for (w, b), (dw, db) in zip(params, grads)], l"
   ]
  },
  {
   "cell_type": "code",
   "execution_count": 57,
   "id": "e0cb37ec-6c5f-4a4d-89ae-5a3d6751a99c",
   "metadata": {
    "tags": []
   },
   "outputs": [
    {
     "name": "stdout",
     "output_type": "stream",
     "text": [
      "i=0 and loss=Array(0.1564158, dtype=float32)\n",
      "\n",
      "i=3000 and loss=Array(0.14473957, dtype=float32)\n",
      "\n",
      "i=6000 and loss=Array(0.13482127, dtype=float32)\n",
      "\n",
      "i=9000 and loss=Array(0.1264401, dtype=float32)\n",
      "\n",
      "i=12000 and loss=Array(0.1193567, dtype=float32)\n",
      "\n",
      "i=15000 and loss=Array(0.11337046, dtype=float32)\n",
      "\n"
     ]
    },
    {
     "data": {
      "text/plain": [
       "<matplotlib.legend.Legend at 0x7f46ec308390>"
      ]
     },
     "execution_count": 57,
     "metadata": {},
     "output_type": "execute_result"
    },
    {
     "data": {
      "image/png": "[encoded data removed]",
      "text/plain": [
       "<Figure size 640x480 with 1 Axes>"
      ]
     },
     "metadata": {},
     "output_type": "display_data"
    }
   ],
   "source": [
    "SEED = 1234\n",
    "key = random.PRNGKey(SEED)\n",
    "Niter = 15000\n",
    "lr = 1e-05\n",
    "\n",
    "num_features = 1\n",
    "# num_traget = 1\n",
    "num_batches = 1000\n",
    "layers = [1] + [4]*8 + [1]\n",
    "ran_key, func_key = random.split(key)\n",
    "params = get_init_network_params(layers, ran_key)\n",
    "\n",
    "x_train = x_uni(num_batches, -1, 1)\n",
    "x_train = x_train.reshape((num_batches, num_features))\n",
    "y_train = runge(x_train)\n",
    "y_train = y_train.reshape((num_batches, num_features))\n",
    "\n",
    "train_batch = 5000\n",
    "\n",
    "x_pred = x_uni(train_batch, -1, 1)\n",
    "x_pred = x_pred.reshape((train_batch, num_features))\n",
    "\n",
    "L = np.zeros(Niter+1)\n",
    "\n",
    "plt.plot(x_train, y_train, \"-ro\", label=\"Train data\")\n",
    "\n",
    "for i in range(0, Niter+1):\n",
    "    params, loss = update(params, x_train, y_train, lr)\n",
    "    L[i] = loss\n",
    "    if i % 3000 == 0:\n",
    "        print(f\"{i=} and {loss=}\\n\")\n",
    "        y_pred = batched_prediction(params, x_pred)\n",
    "        y_pred = y_pred.reshape((train_batch, num_features))\n",
    "        plt.plot(x_pred, y_pred, label = \"epoch_\" + str(i))\n",
    "plt.legend()\n",
    "        "
   ]
  },
  {
   "cell_type": "code",
   "execution_count": 58,
   "id": "dd07a2e4-f77a-49d5-aeba-7ad6d0dd3321",
   "metadata": {
    "tags": []
   },
   "outputs": [
    {
     "data": {
      "text/plain": [
       "[<matplotlib.lines.Line2D at 0x7f46ec374910>]"
      ]
     },
     "execution_count": 58,
     "metadata": {},
     "output_type": "execute_result"
    },
    {
     "data": {
      "image/png": "[encoded data removed]",
      "text/plain": [
       "<Figure size 640x480 with 1 Axes>"
      ]
     },
     "metadata": {},
     "output_type": "display_data"
    }
   ],
   "source": [
    "y_pred = batched_prediction(params, x_pred)\n",
    "y_pred = y_pred.reshape((train_batch, num_features))\n",
    "plt.plot(x_pred, y_pred, label = \"prediction\")"
   ]
  },
  {
   "cell_type": "code",
   "execution_count": 59,
   "id": "0ddd3be6-4e55-4760-873b-a88a0d1680f2",
   "metadata": {
    "tags": []
   },
   "outputs": [
    {
     "data": {
      "text/plain": [
       "<matplotlib.legend.Legend at 0x7f46ec39b2d0>"
      ]
     },
     "execution_count": 59,
     "metadata": {},
     "output_type": "execute_result"
    },
    {
     "data": {
      "image/png": "[encoded data removed]",
      "text/plain": [
       "<Figure size 640x480 with 1 Axes>"
      ]
     },
     "metadata": {},
     "output_type": "display_data"
    }
   ],
   "source": [
    "plt.plot(x_pred, y_pred, label = \"prediction\")\n",
    "plt.plot(x_train, y_train)\n",
    "plt.legend()"
   ]
  },
  {
   "cell_type": "markdown",
   "id": "fe85b8ee-5fee-4679-8f34-accd51e4cda8",
   "metadata": {
    "tags": []
   },
   "source": [
    "From epoch 0 to 15000, it appears that the output of the neural network (NN) is a constant value starting at zero, and moving up as the number of epochs increase. By removing the scaling due to the Runge function that the NN is trying to approximate, we can see that the output of the NN resembles its basis function (ReLu), but it's y-values barely change over the range of x.\n",
    "\n",
    "This phenomena is described in Lecture 5 as dying ReLU networks and collapse, where in most cases the bias in the last layer is the mean value of the function y(x), and the composition of all the previous layers is equivalent to a zero function, and the gradient vanishes. For a ReLU NN of L-layers with a constant number of neurons per layer, the probability that the NN will die increases as L increases. Because we have a very shallow and deep network, the probability that the NN will collapse is non-negligible."
   ]
  }
 ],
 "metadata": {
  "kernelspec": {
   "display_name": "Python 3 (ipykernel)",
   "language": "python",
   "name": "python3"
  },
  "language_info": {
   "codemirror_mode": {
    "name": "ipython",
    "version": 3
   },
   "file_extension": ".py",
   "mimetype": "text/x-python",
   "name": "python",
   "nbconvert_exporter": "python",
   "pygments_lexer": "ipython3",
   "version": "3.11.0"
  }
 },
 "nbformat": 4,
 "nbformat_minor": 5
}
