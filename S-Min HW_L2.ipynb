{
 "cells": [
  {
   "cell_type": "markdown",
   "id": "0e4b4148-08d3-4755-b3c7-5bbd16249a38",
   "metadata": {},
   "source": [
    "Seokkee Min\n",
    "ENGN 2912V - Deep Learning\n",
    "HW_L2"
   ]
  },
  {
   "cell_type": "code",
   "execution_count": 1,
   "id": "a706bff1-f810-4330-b881-2ccaa49f61d4",
   "metadata": {},
   "outputs": [],
   "source": [
    "import numpy as np\n",
    "import scipy as sp"
   ]
  },
  {
   "cell_type": "markdown",
   "id": "2ec793aa-8a43-43c8-8edd-c9266111be02",
   "metadata": {},
   "source": [
    "Problem 2 - Modified Gram-Schmidt"
   ]
  },
  {
   "cell_type": "code",
   "execution_count": 8,
   "id": "c34fce00-5ac8-4cc4-9c6f-c1b65c6723c2",
   "metadata": {},
   "outputs": [],
   "source": [
    "## Problem 2 - mGS function\n",
    "\n",
    "def mGS(A):\n",
    "    d = A.shape[0]\n",
    "    V = np.copy(A)\n",
    "    R = np.zeros(A.shape, dtype=A.dtype)\n",
    "    Q = np.zeros(A.shape, dtype=A.dtype)\n",
    "    \n",
    "    for k in range(0,d):\n",
    "        w = V[:,k]\n",
    "        R[k,k] = np.linalg.norm(V[:,k], ord = 2)\n",
    "        Q[:,k] = V[:,k]/R[k,k]\n",
    "           \n",
    "        for j in range(k+1,d):\n",
    "            R[k,j] = Q[:,k].T @ V[:,j]\n",
    "            V[:,j] = V[:,j] - R[k,j]*Q[:,k]\n",
    "            \n",
    "    return Q"
   ]
  },
  {
   "cell_type": "code",
   "execution_count": 9,
   "id": "22369c37-722f-4fd0-8df9-1b0b7a7d8cef",
   "metadata": {},
   "outputs": [
    {
     "name": "stdout",
     "output_type": "stream",
     "text": [
      "-> mGS output orthogonal\n",
      "\n",
      "Test input array\n",
      "[[ 1. -1.  0.]\n",
      " [ 2.  0.  0.]\n",
      " [ 2.  2.  1.]]\n",
      "\n",
      "modified Gram-Schmidt output\n",
      "[[ 0.33333333 -0.66666667  0.66666667]\n",
      " [ 0.66666667 -0.33333333 -0.66666667]\n",
      " [ 0.66666667  0.66666667  0.33333333]]\n",
      "\n",
      "Output.T <dot> Output\n",
      "[[ 1.00000000e+00  4.93432455e-17 -4.00913870e-17]\n",
      " [ 4.93432455e-17  1.00000000e+00 -1.97372982e-16]\n",
      " [-4.00913870e-17 -1.97372982e-16  1.00000000e+00]] \n",
      "\n",
      "\n"
     ]
    }
   ],
   "source": [
    "## Problem 2 - mGS Test    \n",
    "v1 = np.array([1.,2.,2.]).reshape((3,1))\n",
    "v2 = np.array([-1.,0.,2.]).reshape((3,1))\n",
    "v3 = np.array([0.,0.,1.]).reshape((3,1))\n",
    "S = np.hstack([v1, v2, v3])\n",
    "\n",
    "Q = mGS(S)\n",
    "\n",
    "dot = np.dot(np.transpose(Q), Q)\n",
    "orth_test = np.allclose([dot], [np.eye(S.shape[0])])\n",
    "if orth_test == 1:\n",
    "    print(\"-> mGS output orthogonal\")\n",
    "else:\n",
    "    print(\"-> mGS output not orthogonal\")\n",
    "    \n",
    "print(\"\\nTest input array\")\n",
    "print(S)\n",
    "print(\"\\nmodified Gram-Schmidt output\")\n",
    "print(Q)\n",
    "print(\"\\nOutput.T <dot> Output\")\n",
    "print(dot, '\\n\\n')\n"
   ]
  },
  {
   "cell_type": "markdown",
   "id": "eb9de5f4-46fd-4689-92f6-32b2d873da66",
   "metadata": {},
   "source": [
    "Problem 3 - SVD"
   ]
  },
  {
   "cell_type": "code",
   "execution_count": 4,
   "id": "96508a65-a95b-4343-b6b0-c9572b9d51b1",
   "metadata": {},
   "outputs": [],
   "source": [
    "## Problem 3 - SVD function\n",
    "\n",
    "\n",
    "def SVD_func(A):\n",
    "    U1, U2 = np.linalg.eig(A @ A.T)\n",
    "    V1, V2 = np.linalg.eig(A.T @ A)\n",
    "   \n",
    "    \n",
    "    idx_U = U1.argsort()[::-1]\n",
    "    U1s = U1[idx_U]\n",
    "    U2s = abs(U2[:,idx_U])\n",
    "    \n",
    "    idx_V = V1.argsort()[::-1]\n",
    "    V1s = V1[idx_V]\n",
    "    V2s = abs(V2[:,idx_V])\n",
    "    \n",
    "    \n",
    "    S = np.c_[np.diag(np.sqrt(U1s)), np.zeros(np.shape(A)[0])]\n",
    "    return U2s, V2s, S, U1s, V1s"
   ]
  },
  {
   "cell_type": "code",
   "execution_count": 5,
   "id": "e43013a7-4500-438d-b9f8-a9e288e9b88e",
   "metadata": {},
   "outputs": [
    {
     "name": "stdout",
     "output_type": "stream",
     "text": [
      "-> SVD Successful \n",
      "\n",
      "test matrix\n",
      "[[1 0 0 0 2]\n",
      " [0 0 3 0 0]\n",
      " [0 0 0 0 0]\n",
      " [0 2 0 0 0]]\n",
      "\n",
      "U\n",
      "[[0. 1. 0. 0.]\n",
      " [1. 0. 0. 0.]\n",
      " [0. 0. 0. 1.]\n",
      " [0. 0. 1. 0.]]\n",
      "\n",
      "S\n",
      "[[3.         0.         0.         0.         0.        ]\n",
      " [0.         2.23606798 0.         0.         0.        ]\n",
      " [0.         0.         2.         0.         0.        ]\n",
      " [0.         0.         0.         0.         0.        ]]\n",
      "\n",
      "V.T\n",
      "[[0.         0.         1.         0.         0.        ]\n",
      " [0.4472136  0.         0.         0.         0.89442719]\n",
      " [0.         1.         0.         0.         0.        ]\n",
      " [0.         0.         0.         1.         0.        ]\n",
      " [0.89442719 0.         0.         0.         0.4472136 ]]\n",
      "\n",
      "Recombined\n",
      "[[1. 0. 0. 0. 2.]\n",
      " [0. 0. 3. 0. 0.]\n",
      " [0. 0. 0. 0. 0.]\n",
      " [0. 2. 0. 0. 0.]]\n",
      "\n",
      "\n",
      "\n"
     ]
    }
   ],
   "source": [
    "## Problem 3 - SVD Test\n",
    "\n",
    "M = np.array(([1,0,0,0,2],[0,0,3,0,0,],[0,0,0,0,0],[0,2,0,0,0]))\n",
    "\n",
    "[U, V, S, Us, Vs] = SVD_func(M)\n",
    "\n",
    "U1, S1, V1 = np.linalg.svd(M, full_matrices=True)\n",
    "S1 = np.c_[np.diag(S1), [0,0,0,0]]\n",
    "Test = U@S@V.T\n",
    "\n",
    "if Test.all() == M.all():\n",
    "    print(\"-> SVD Successful \\n\")\n",
    "else:\n",
    "    print(\"-> SVD failed \\n\")\n",
    "    \n",
    "print(\"test matrix\")\n",
    "print(M)\n",
    "print(\"\\nU\")\n",
    "print(U)\n",
    "print(\"\\nS\")\n",
    "print(S)\n",
    "print(\"\\nV.T\")\n",
    "print(V.T)\n",
    "print(\"\\nRecombined\")\n",
    "print(Test)\n",
    "print(\"\\n\\n\")"
   ]
  },
  {
   "cell_type": "markdown",
   "id": "d2963a2a-c5d1-4d42-aabd-6b4005bd1795",
   "metadata": {},
   "source": [
    "Problem 4 - L2 Norm"
   ]
  },
  {
   "cell_type": "code",
   "execution_count": 6,
   "id": "6f75ab0c-90b0-4a70-9120-8d8a544246b9",
   "metadata": {},
   "outputs": [],
   "source": [
    "## Problem 4 - L2 Norm Func\n",
    "\n",
    "def l2_norm(A):\n",
    "    x = 0.\n",
    "    d = len(A)\n",
    "    for i in range(d):\n",
    "        x = x + A[i]**2\n",
    "        \n",
    "    x = np.sqrt(x)\n",
    "    return x\n",
    "        \n",
    "        \n"
   ]
  },
  {
   "cell_type": "code",
   "execution_count": 7,
   "id": "018d9655-6474-4a72-84ee-73536a737852",
   "metadata": {},
   "outputs": [
    {
     "name": "stdout",
     "output_type": "stream",
     "text": [
      "Test Vector\n",
      "[0.27059805 0.27059805 0.92387953]\n",
      "\n",
      "Written L2-norm output\n",
      "1.0\n",
      "\n",
      "linalg.norm output\n",
      "1.0\n"
     ]
    }
   ],
   "source": [
    "## Problem 4 - L2 Norm Test\n",
    "\n",
    "pi = np.pi\n",
    "cos4 = np.cos(pi/4)\n",
    "sin4 = np.sin(pi/4)\n",
    "cos8 = np.cos(pi/8)\n",
    "sin8 = np.sin(pi/8)\n",
    "\n",
    "a1 = cos4*sin8\n",
    "a2 = sin4*sin8\n",
    "\n",
    "\n",
    "M = np.array(([a1,a2,cos8]))\n",
    "\n",
    "print(\"Test Vector\")\n",
    "print(M)\n",
    "\n",
    "\n",
    "Z = l2_norm(M)     \n",
    "ZZ = np.linalg.norm(M, ord = 2)\n",
    "       \n",
    "print(\"\\nWritten L2-norm output\")\n",
    "print(Z)\n",
    "print(\"\\nlinalg.norm output\")\n",
    "print(ZZ)\n"
   ]
  },
  {
   "cell_type": "code",
   "execution_count": null,
   "id": "f7a59672-fa7f-455c-a80c-1aa4b7db8c53",
   "metadata": {},
   "outputs": [],
   "source": []
  }
 ],
 "metadata": {
  "kernelspec": {
   "display_name": "Python 3 (ipykernel)",
   "language": "python",
   "name": "python3"
  },
  "language_info": {
   "codemirror_mode": {
    "name": "ipython",
    "version": 3
   },
   "file_extension": ".py",
   "mimetype": "text/x-python",
   "name": "python",
   "nbconvert_exporter": "python",
   "pygments_lexer": "ipython3",
   "version": "3.9.7"
  }
 },
 "nbformat": 4,
 "nbformat_minor": 5
}
